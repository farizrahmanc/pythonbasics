{
 "cells": [
  {
   "cell_type": "code",
   "execution_count": 6,
   "id": "04086b3f",
   "metadata": {},
   "outputs": [],
   "source": [
    "def fact():\n",
    "    s=1\n",
    "    a=int(input(\"enter the number\"))\n",
    "    for i in range(1,a+1):\n",
    "        s=s*i\n",
    "    return(s)"
   ]
  },
  {
   "cell_type": "code",
   "execution_count": 7,
   "id": "d0a79c20",
   "metadata": {},
   "outputs": [
    {
     "name": "stdout",
     "output_type": "stream",
     "text": [
      "enter the number6\n",
      "720\n"
     ]
    }
   ],
   "source": [
    "f=fact()\n",
    "print(f)"
   ]
  },
  {
   "cell_type": "code",
   "execution_count": 8,
   "id": "c602e3f1",
   "metadata": {},
   "outputs": [
    {
     "name": "stdout",
     "output_type": "stream",
     "text": [
      "enter the number:2\n",
      "february\n"
     ]
    }
   ],
   "source": [
    "x=int(input(\"enter the number:\"))\n",
    "if(x==1):\n",
    "    print(\"january\")\n",
    "elif(x==2):\n",
    "    print(\"february\")\n",
    "elif(x==3):\n",
    "    print(\"march\")\n",
    "elif(x==4):\n",
    "    print(\"april\")\n",
    "elif(x==5):\n",
    "    print(\"may\")\n",
    "elif(x==6):\n",
    "    print(\"june\")\n",
    "elif(x==7):\n",
    "    print(\"july\")\n",
    "elif(x==8):\n",
    "    print(\"august\")\n",
    "elif(x==9):\n",
    "    print(\"september\")\n",
    "elif(x==10):\n",
    "    print(\"october\")\n",
    "elif(x==11):\n",
    "    print(\"november\")\n",
    "elif(x==12):\n",
    "    print(\"december\")\n",
    "else:\n",
    "    print(\"error 404\")"
   ]
  },
  {
   "cell_type": "code",
   "execution_count": 9,
   "id": "24448ab4",
   "metadata": {},
   "outputs": [
    {
     "name": "stdout",
     "output_type": "stream",
     "text": [
      "2023-12-18 15:04:25.611533\n"
     ]
    }
   ],
   "source": [
    "import datetime\n",
    "x=datetime.datetime.now()\n",
    "print(x)"
   ]
  },
  {
   "cell_type": "code",
   "execution_count": null,
   "id": "e50e3c8c",
   "metadata": {},
   "outputs": [],
   "source": [
    "x+int(input(\"enter your number:\"))\n",
    "#def prime(x):\n",
    "for i in range(1,x+1):\n",
    "    if(x%i==0):\n",
    "        print(x,\"is a prime number\")\n",
    "        break"
   ]
  }
 ],
 "metadata": {
  "kernelspec": {
   "display_name": "Python 3 (ipykernel)",
   "language": "python",
   "name": "python3"
  },
  "language_info": {
   "codemirror_mode": {
    "name": "ipython",
    "version": 3
   },
   "file_extension": ".py",
   "mimetype": "text/x-python",
   "name": "python",
   "nbconvert_exporter": "python",
   "pygments_lexer": "ipython3",
   "version": "3.11.5"
  }
 },
 "nbformat": 4,
 "nbformat_minor": 5
}
